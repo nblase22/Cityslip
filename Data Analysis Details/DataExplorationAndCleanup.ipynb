{
 "cells": [
  {
   "cell_type": "markdown",
   "metadata": {},
   "source": [
    "\n",
    "<h2>Data Exploration and Cleanup Process</h2>\n",
    "\n",
    "<ol>\n",
    "<li>Our interest was in finding information about a location defined by a zip code.\n",
    "\n",
    "\n",
    "<li>We learned that for some APIs or datasets, we could search by zip code; for others we needed to use lat/long coordinates.\n",
    "\n",
    "\n",
    "<li>We explored the Google Maps API for getting Point of Interest around a coordinate; and decided on a list of POIs. Initially we tried to use Google Places API but it returned only a maximum of 20 results. We switched to a Google Radar search which has a limit of 200 results.\n",
    "\n",
    "\n",
    "<li>We explored the census data and age demographics, using both census CSV data (2010-2016) and age demographic data via the Onboard API.\n",
    "\n",
    "\n",
    "<li>We explored real estate data (home values, rents and market health) using Zillow’s CSV files\n",
    "<ol>\n",
    "   <li>Data exists for 2014 through September 2017 for all zip codes in the file\n",
    "   <li>Some zip codes don't exist in the file; so we found neighboring zip codes and averaged their data\n",
    "</ol>    \n",
    "<li>\tWe explored other data we thought would be good factors in helping determine whether someone would want to move to a particular location:\n",
    "<ol>\n",
    "   <li>Walkability: using Walkscore API\n",
    "   <li>Crime risk, sales tax and average temperatures using Onboard API\n",
    "   <li>Schools in the area using Onboard API\n",
    "</ol>    \n",
    "<li>We used zipcodes (Python package) and a Zipcode CSV file for zipcode information. We needed to “clean” the zipcode file to remove non-standard zip codes (such as for PO Boxes or military APOs).\n",
    "</ol>\n",
    "\n",
    "<h3>CSV Files Used:</h3>\n",
    "<ol>\n",
    "<li>Zillow: MarketHealthIndex_Zip.csv\n",
    "<li>Zillow: Zip_Zhvi_AllHomes.csv\n",
    "<li>Zillow: Zip_Zri_AllHomes.csv\n",
    "<li>Census: co-est2016-alldata.csv\n",
    "<li>Zip Code: free-zipcode-database-Primary.csv\n",
    "</ol>\n",
    "\n",
    "<h3>APIs used:</h3>\n",
    "<ol>\n",
    "<li>US Census API - https://www.fcc.gov/general/census-block-conversions-api\n",
    "<li>Google Maps API - https://developers.google.com/maps/\n",
    "<li>Onboard API - https://www.onboardinformatics.com\n",
    "<li>Walkscore API – https://www.walkscore.com/professional/api.php\n",
    "</ol>"
   ]
  },
  {
   "cell_type": "code",
   "execution_count": null,
   "metadata": {
    "collapsed": true
   },
   "outputs": [],
   "source": []
  },
  {
   "cell_type": "code",
   "execution_count": null,
   "metadata": {
    "collapsed": true
   },
   "outputs": [],
   "source": []
  }
 ],
 "metadata": {
  "kernelspec": {
   "display_name": "Python 3",
   "language": "python",
   "name": "python3"
  },
  "language_info": {
   "codemirror_mode": {
    "name": "ipython",
    "version": 3
   },
   "file_extension": ".py",
   "mimetype": "text/x-python",
   "name": "python",
   "nbconvert_exporter": "python",
   "pygments_lexer": "ipython3",
   "version": "3.6.1"
  }
 },
 "nbformat": 4,
 "nbformat_minor": 2
}
