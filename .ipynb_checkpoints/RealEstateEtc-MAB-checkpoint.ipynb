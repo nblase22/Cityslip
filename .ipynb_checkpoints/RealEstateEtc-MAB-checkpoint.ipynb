{
 "cells": [
  {
   "cell_type": "code",
   "execution_count": 1,
   "metadata": {
    "collapsed": true
   },
   "outputs": [],
   "source": [
    "# Dependencies\n",
    "import json\n",
    "import numpy as np\n",
    "from datetime import datetime\n",
    "import time as time\n",
    "import matplotlib.pyplot as plt\n",
    "import pandas as pd\n",
    "import requests as req\n",
    "#uszipcode population data is from 2010, so probably not the best choice, but lat long is good!\n",
    "import zipcodes\n",
    "import http.client "
   ]
  },
  {
   "cell_type": "code",
   "execution_count": 2,
   "metadata": {},
   "outputs": [
    {
     "name": "stdout",
     "output_type": "stream",
     "text": [
      "Which zipcode would you like to score? 22180\n"
     ]
    }
   ],
   "source": [
    "# get latitude and longitude of target zipcode for use with google places\n",
    "target_zip = input(\"Which zipcode would you like to score? \")\n",
    "if len(zipcodes.matching(target_zip)) == 0:\n",
    "    print(\"That is not a valid zip code\")\n",
    "    target_zip = input(\"Please try a new zipcode \")\n",
    "\n",
    "\n",
    "lat = zipcodes.matching(target_zip)[0][\"lat\"]\n",
    "lng = zipcodes.matching(target_zip)[0][\"long\"]\n",
    "city = zipcodes.matching(target_zip)[0][\"city\"].lower()\n",
    "state = zipcodes.matching(target_zip)[0][\"state\"].lower()"
   ]
  },
  {
   "cell_type": "code",
   "execution_count": 3,
   "metadata": {
    "collapsed": true
   },
   "outputs": [],
   "source": [
    "# Function to store Zillow home values and monthly rental prices for 2013-2017 quarters\n",
    "# Function requires a zip code string; returns data frame\n",
    "\n",
    "def get_home_data(zip):\n",
    "    zip_code = int(zip)\n",
    "    \n",
    "    #create lists for the Zillow data \n",
    "    home_values=[]\n",
    "    monthly_rentals=[]\n",
    "    periods = []\n",
    "    years=[\"2013\",\"2014\",\"2015\",\"2016\",\"2017\"]\n",
    "    months=[\"03\",\"06\",\"09\",\"12\"]\n",
    "    \n",
    "    \n",
    "    ## Zillow Home Value Index (ZHVI) is a time series tracking the monthly median home value\n",
    "    # get the data just for the input zip code\n",
    "    all_homes = pd.read_csv(\"Resources/Zip_Zhvi_AllHomes.csv\")\n",
    "    zc_all_homes = all_homes[all_homes[\"RegionName\"] == zip_code].iloc[0]\n",
    "\n",
    "    ## Zillow Rental Index (ZRI) is a time series tracking the monthly median rental\n",
    "    all_rental_homes = pd.read_csv(\"Resources/Zip_Zri_AllHomes.csv\")\n",
    "    zc_all_rental_homes = all_rental_homes[all_rental_homes[\"RegionName\"] == zip_code].iloc[0]\n",
    "    \n",
    "    #get the home value and monthly rental data for the years/months specified above\n",
    "    for y in years:\n",
    "        for m in months:\n",
    "            col_name = \"%s-%s\" % (y,m)\n",
    "\n",
    "            try:\n",
    "                #get the data for this column name\n",
    "                home_value = zc_all_homes[col_name]\n",
    "                rent = zc_all_rental_homes[col_name]\n",
    "                home_values.append(home_value)\n",
    "                monthly_rentals.append(rent)\n",
    "                periods.append(col_name)\n",
    "                #print(col_name, home_value, rent)\n",
    "            except:\n",
    "                print(\"no value for: %s\" % col_name)\n",
    "                    \n",
    "    #store rent and house prices into a DF\n",
    "    zillow_df=pd.DataFrame({\"period\": periods, \n",
    "                        \"home_value\": home_values,\n",
    "                        \"monthly_rent\": monthly_rentals})\n",
    "    return zillow_df, periods                  "
   ]
  },
  {
   "cell_type": "code",
   "execution_count": 4,
   "metadata": {},
   "outputs": [
    {
     "name": "stdout",
     "output_type": "stream",
     "text": [
      "no value for: 2017-12\n"
     ]
    }
   ],
   "source": [
    "df, periods = get_home_data(target_zip)"
   ]
  },
  {
   "cell_type": "code",
   "execution_count": 5,
   "metadata": {
    "collapsed": true
   },
   "outputs": [],
   "source": [
    "# Function to plot Zillow home values and monthly rental prices for 2013-2017 quarters\n",
    "# Function requires a DF with the Zillow info and the zip code (string)\n",
    "def plot_homes(df, zip, periods):\n",
    "    #plot the home values \n",
    "    x_ticks = periods\n",
    "    x_axis = np.arange(1,20,1)\n",
    "    y_axis = df['home_value']\n",
    "    plt.xticks(x_axis, x_ticks, rotation='vertical')\n",
    "    plt.legend\n",
    "    plt.plot(x_axis, y_axis)\n",
    "    plt.ylabel(\"Home Prices ($)\")\n",
    "    plt.title(\"%s Home Sales 2013-2017\" % zip)\n",
    "    #save the plot??\n",
    "    plt.show()\n",
    "    \n",
    "    #plot the monthly rentals\n",
    "    x_ticks = periods\n",
    "    x_axis = np.arange(1,20,1)\n",
    "    y_axis = df['monthly_rent']\n",
    "    plt.xticks(x_axis, x_ticks, rotation='vertical')\n",
    "    plt.legend\n",
    "    plt.plot(x_axis, y_axis)\n",
    "    plt.xlabel(\"Recent Quarters\")\n",
    "    plt.ylabel(\"Montly Rents ($)\")\n",
    "    plt.title(\"%s Monthly Rents 2013-2017\" % zip)\n",
    "    plt.show()"
   ]
  },
  {
   "cell_type": "code",
   "execution_count": 6,
   "metadata": {},
   "outputs": [
    {
     "data": {
      "image/png": "[encoded data removed]",
      "text/plain": [
       "<matplotlib.figure.Figure at 0x11b860160>"
      ]
     },
     "metadata": {},
     "output_type": "display_data"
    },
    {
     "data": {
      "image/png": "[encoded data removed]",
      "text/plain": [
       "<matplotlib.figure.Figure at 0x11b7b6b70>"
      ]
     },
     "metadata": {},
     "output_type": "display_data"
    }
   ],
   "source": [
    "plot_homes(df,target_zip,periods)"
   ]
  },
  {
   "cell_type": "code",
   "execution_count": 7,
   "metadata": {},
   "outputs": [
    {
     "name": "stdout",
     "output_type": "stream",
     "text": [
      "Market Health: 5.67038114841\n",
      "no bike score\n",
      "Walkability and Bikability Scores: 74: Very Walkable, 0: \n"
     ]
    }
   ],
   "source": [
    "# Function to store various information about a location, such as walkability score, market health index, schools\n",
    "# Function requires a zip code string, latitude and longitude; returns ?\n",
    "def get_zip_factors (zip, lat, lng):\n",
    "    #1) Market Health Index: \n",
    "    # This index indicates the current health of a given region’s housing market relative to other markets nationwide. \n",
    "    # It is calculated on a scale of 0 to 10, with 0 = the least healthy markets and 10 = the healthiest markets.\n",
    "    market_health_index = pd.read_csv(\"Resources/MarketHealthIndex_Zip.csv\",encoding=\"ISO-8859-1\")\n",
    "    zip_market_health = market_health_index[market_health_index[\"RegionName\"] == int(zip)].iloc[0]\n",
    "    market_health = zip_market_health['MarketHealthIndex']\n",
    "    print(\"Market Health: %s\" % market_health)\n",
    "    \n",
    "    #2) ##get walkability, transit and bike scores from Walk Score once I have an API.\n",
    "    walk_api_key = \"ca8240c847695f334874949c406f04aa\"\n",
    "    walk_url = \"http://api.walkscore.com/score?format=json&\"\n",
    "    # Build query URL\n",
    "    query_url = walk_url  + \"&lat=\" + str(lat) + \"&lon=\" + str(lng) + \"&transit=1&bike=1\" + \"&wsapikey=\" + walk_api_key\n",
    "    walk_response = req.get(query_url).json()\n",
    "\n",
    "    # Get the neighborhood data from the response\n",
    "    walk_score = walk_response['walkscore']\n",
    "    walk_description=walk_response['description']\n",
    "    try:    \n",
    "        bike_score = walk_response['bike']['score']\n",
    "        bike_description = walk_response['bike']['description']\n",
    "    except:\n",
    "        print(\"no bike score\")\n",
    "        bike_score = 0\n",
    "        bike_description = \"\"\n",
    "    print(\"Walkability and Bikability Scores: %s: %s, %s: %s\" % (walk_score, walk_description, bike_score, bike_description))\n",
    "\n",
    "    #What do we want to return from this function? each value or a dictionary or a DF?\n",
    "    \n",
    "get_zip_factors(target_zip,lat, lng)    "
   ]
  },
  {
   "cell_type": "code",
   "execution_count": 8,
   "metadata": {},
   "outputs": [
    {
     "name": "stdout",
     "output_type": "stream",
     "text": [
      "10\n",
      "Type: PRIVATE, Name: FAITH BAPTIST ACADEMY\n",
      "Type: PUBLIC, Name: VIENNA ELEMENTARY SCHOOL\n",
      "Type: PRIVATE, Name: VIENNA ADVENTIST ACADEMY\n",
      "Type: PUBLIC, Name: CUNNINGHAM PARK ELEMENTARY SCHOOL\n",
      "Type: PRIVATE, Name: GREEN HEDGES SCHOOL\n",
      "Type: PUBLIC, Name: LOUISE ARCHER ELEMENTARY SCHOOL\n",
      "Type: PUBLIC, Name: MADISON HIGH SCHOOL\n",
      "Type: PRIVATE, Name: APPLETREE II\n",
      "Type: PRIVATE, Name: PARKWOOD SCHOOL\n",
      "Type: CATHOLIC, Name: OUR LADY OF GOOD COUNSEL SCHOOL\n"
     ]
    }
   ],
   "source": [
    "#Get school data from OnBoard\n",
    "# Function requires latitude and longitude; returns ?\n",
    "def get_school_data(lat, lng):\n",
    "    import http.client \n",
    "\n",
    "    #Onboard API Key\n",
    "    onboard_api_key = \"727ca1bf9168cb8329806cb7e0eef3f6\"\n",
    "\n",
    "    conn = http.client.HTTPSConnection(\"search.onboard-apis.com\") \n",
    "    school_url = \"/propertyapi/v1.0.0/school/snapshot?\"\n",
    "    headers = { \n",
    "        'accept': \"application/json\", \n",
    "        'apikey': \"727ca1bf9168cb8329806cb7e0eef3f6\", \n",
    "        } \n",
    "\n",
    "    point = \"latitude=\" + str(lat) + \"&longitude=\" + str(lng) + \"&radius=5\"\n",
    "    query_url = school_url + point\n",
    "\n",
    "    conn.request(\"GET\", query_url, headers=headers) \n",
    "\n",
    "    res = conn.getresponse()\n",
    "    resp = json.loads(res.read())\n",
    "    resp\n",
    "    \n",
    "    #loop through and count up private and public schools\n",
    "    total = resp['status']['pagesize']\n",
    "    print(total)\n",
    "    for i in range(0, total):    \n",
    "        print(\"Type: %s, Name: %s\" % (resp['school'][i]['School']['Filetypetext'], resp['school'][i]['School']['InstitutionName']))\n",
    "        #print(resp['school'][i]['School']['InstitutionName'])\n",
    "\n",
    "    #What do we want to return from this function? number of schools of each type? all requests seem to return 10 total\n",
    "    \n",
    "get_school_data(lat,lng)    "
   ]
  },
  {
   "cell_type": "code",
   "execution_count": null,
   "metadata": {
    "collapsed": true
   },
   "outputs": [],
   "source": []
  }
 ],
 "metadata": {
  "kernelspec": {
   "display_name": "Python [default]",
   "language": "python",
   "name": "python3"
  },
  "language_info": {
   "codemirror_mode": {
    "name": "ipython",
    "version": 3
   },
   "file_extension": ".py",
   "mimetype": "text/x-python",
   "name": "python",
   "nbconvert_exporter": "python",
   "pygments_lexer": "ipython3",
   "version": "3.6.1"
  }
 },
 "nbformat": 4,
 "nbformat_minor": 2
}
