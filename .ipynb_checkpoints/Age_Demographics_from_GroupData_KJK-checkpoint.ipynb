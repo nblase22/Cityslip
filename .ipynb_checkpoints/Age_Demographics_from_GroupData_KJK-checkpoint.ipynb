{
 "cells": [
  {
   "cell_type": "code",
   "execution_count": null,
   "metadata": {
    "collapsed": true,
    "scrolled": true
   },
   "outputs": [],
   "source": [
    "#get community data for zip code\n",
    "import matplotlib.pyplot as plt\n",
    "import zipcodes\n",
    "import pandas as pd\n",
    "import json\n",
    "import http.client\n"
   ]
  },
  {
   "cell_type": "code",
   "execution_count": null,
   "metadata": {},
   "outputs": [],
   "source": [
    "#---------------------------------------------------------------#\n",
    "#          User inputs 5-digit Zipcode to generate lat / lng\n",
    "#---------------------------------------------------------------#\n",
    "\n",
    "target_zip = input(\"Which zipcode would you like to score? \")\n",
    "y = True\n",
    "while y ==True:\n",
    "    if len(zipcodes.matching(target_zip)) == 0:\n",
    "        print(\"That is not a valid zip code\")\n",
    "        target_zip = input(\"Please try a new zipcode \")\n",
    "    else:\n",
    "        y = False\n",
    "\n",
    "lat = zipcodes.matching(target_zip)[0][\"lat\"]\n",
    "lng = zipcodes.matching(target_zip)[0][\"long\"]"
   ]
  },
  {
   "cell_type": "code",
   "execution_count": null,
   "metadata": {
    "collapsed": true
   },
   "outputs": [],
   "source": [
    "#---------------------------------------------------------------#\n",
    "#Query Community API and return the results as JSON object 'resp'\n",
    "\n",
    "#API URL: https://developer.onboard-apis.com/docs\n",
    "#---------------------------------------------------------------#\n",
    "\n",
    "\n",
    "def get_community_data(target_zip):\n",
    "\n",
    "   #Onboard API Key\n",
    "    onboard_api_key = \"727ca1bf9168cb8329806cb7e0eef3f6\"\n",
    "\n",
    "    conn = http.client.HTTPSConnection(\"search.onboard-apis.com\")\n",
    "    headers = {\n",
    "        'accept': \"application/json\",\n",
    "        'apikey': \"727ca1bf9168cb8329806cb7e0eef3f6\",\n",
    "        } \n",
    "\n",
    "    community_url = \"/communityapi/v2.0.0/Area/Full/?\"\n",
    "    queries=\"AreaId=ZI\"+target_zip\n",
    "    query_url = community_url + queries\n",
    "    conn.request(\"GET\", query_url, headers=headers) \n",
    "    res = conn.getresponse()\n",
    "    resp = json.loads(res.read())\n",
    "    return resp\n",
    "    \n"
   ]
  },
  {
   "cell_type": "code",
   "execution_count": null,
   "metadata": {
    "collapsed": true
   },
   "outputs": [],
   "source": [
    "#---------------------------------------------------------------#\n",
    "# Extract age demographics from the 'resp' JSON object\n",
    "# Provides a pie chart\n",
    "#---------------------------------------------------------------#\n",
    "\n",
    "def age_demographics_zip(resp, target_zip):\n",
    "    resp_keys = list(resp['response'].keys())\n",
    "    if 'result' not in resp_keys: #check if there is data in 'resp' \n",
    "        result = 2       \n",
    "        print('No results to graph. This zip code may not be valid.')\n",
    "\n",
    "    else: # If there are results in the 'resp' \n",
    "        age_columns = ['age00_04','age05_09','age10_14','age15_19','age20_24','age25_29','age30_34','age35_39','age40_44',\n",
    "                    'age45_49','age50_54','age55_59','age60_64','age65_69','age70_74','age75_79','age80_84','agegt85']\n",
    "        labels = []\n",
    "        age_groups = []\n",
    "        age_group_values = []\n",
    "        county_name = resp['response']['result']['package']['item'][0]['countyname']\n",
    "        for x in age_columns:\n",
    "            group_name = x\n",
    "            age_groups.append(x)\n",
    "            route = resp['response']['result']['package']['item'][0][x]\n",
    "            age_group_values.append(int(route))\n",
    "            label = x.replace('age','').replace('_','-').replace('gt85',' >=85') #format labels\n",
    "            labels.append(label)\n",
    "\n",
    "        # Create DF with summarized age groups\n",
    "        age_by_zip = {\"Groups\": age_groups, \"Count\": age_group_values}\n",
    "        age_by_zip_df = pd.DataFrame(age_by_zip)\n",
    "        _0_09 = age_by_zip_df[0:2]['Count'].sum()\n",
    "        _10_19 = age_by_zip_df[2:4]['Count'].sum()\n",
    "        _20_29 = age_by_zip_df[4:6]['Count'].sum()\n",
    "        _30_39 = age_by_zip_df[6:8]['Count'].sum()\n",
    "        _40_49 = age_by_zip_df[8:10]['Count'].sum()\n",
    "        _50_59 = age_by_zip_df[10:12]['Count'].sum()\n",
    "        _60_69 = age_by_zip_df[12:14]['Count'].sum()\n",
    "        _70_plus = age_by_zip_df[14:18]['Count'].sum()\n",
    "        grp_sum_lables = ['1-9','10-19','20-29','30-39','40-49','50-59','60-69','>= 70']\n",
    "        grp_sums = [_0_09,_10_19,_20_29,_30_39,_40_49,_50_59,_60_69,_70_plus]\n",
    "        grp_dict = {'Groups':grp_sum_lables,'Count':grp_sums}\n",
    "        grouped_age_df = pd.DataFrame(grp_dict)\n",
    "        # Determine max value amongst age groups and set this to explode in pie chart\n",
    "        max_age = grouped_age_df['Count'].idxmax(axis=0, skipna=True)\n",
    "        explode_params = [0,0,0,0,0,0,0,0,]\n",
    "        explode_params[max_age] = 0.2\n",
    "        # Plot pie chart \n",
    "        fig = plt.figure(figsize = [10,10])\n",
    "        plt.pie(grouped_age_df['Count'], shadow=True, startangle=140,explode = explode_params,\n",
    "                textprops={\"fontsize\": 12},labels = grouped_age_df['Groups'],autopct=\"%1.1f%%\", pctdistance = .65)\n",
    "        plt.title(\"Age Groups for zip code %s\\nin %s\" %(target_zip,county_name))\n",
    "    #     plt.savefig(\"Age_Demographics_PieChar.png\")\n",
    "        return plt.show()\n",
    "    "
   ]
  },
  {
   "cell_type": "code",
   "execution_count": null,
   "metadata": {},
   "outputs": [],
   "source": [
    "resp = get_community_data(target_zip)\n",
    "age_demographics_zip(resp,target_zip)"
   ]
  },
  {
   "cell_type": "code",
   "execution_count": null,
   "metadata": {
    "collapsed": true
   },
   "outputs": [],
   "source": []
  }
 ],
 "metadata": {
  "kernelspec": {
   "display_name": "Python 3",
   "language": "python",
   "name": "python3"
  },
  "language_info": {
   "codemirror_mode": {
    "name": "ipython",
    "version": 3
   },
   "file_extension": ".py",
   "mimetype": "text/x-python",
   "name": "python",
   "nbconvert_exporter": "python",
   "pygments_lexer": "ipython3",
   "version": "3.6.1"
  }
 },
 "nbformat": 4,
 "nbformat_minor": 2
}
