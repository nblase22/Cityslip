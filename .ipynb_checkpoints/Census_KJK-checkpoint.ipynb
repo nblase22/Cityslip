{
 "cells": [
  {
   "cell_type": "code",
   "execution_count": 1,
   "metadata": {
    "collapsed": true
   },
   "outputs": [],
   "source": [
    "#---------------------------------------------------------------#\n",
    "#          Notes on Census CSV file\n",
    "#---------------------------------------------------------------#\n",
    "#U.S. Census population data by State/County from 2010-2016\n",
    "    #VARIABLE list: https://www2.census.gov/programs-surveys/popest/technical-documentation/file-layouts/2010-2016/nst-est2016-alldata.pdf\n",
    "    #Data source: https://www2.census.gov/programs-surveys/popest/datasets/2010-2016/counties/totals/?C=D;O=A\n",
    "    #Column_names = list(county_census_pop.columns)\n",
    "    #2016 Population estimate: POPESTIMATE2016\n",
    "        #'STATE' is an int code // 'COUNTY' is an int code // 'STNAME' is string // 'CTYNAME' 'is the county name as string\n",
    "\n",
    "# Read the CSV file with all str columns as lowercase // Shape: rows=3193, columns=116 // filesize: 2.5MB\n",
    "# county_census_pop = pd.read_csv('co-est2016-alldata.csv',\\\n",
    "#                                 encoding=\"ISO-8859-1\").apply(lambda x: x.astype(str).str.lower())"
   ]
  },
  {
   "cell_type": "code",
   "execution_count": 2,
   "metadata": {
    "collapsed": true
   },
   "outputs": [],
   "source": [
    "import matplotlib.pyplot as plt\n",
    "import requests as req\n",
    "import pandas as pd\n",
    "import zipcodes\n",
    "import json"
   ]
  },
  {
   "cell_type": "code",
   "execution_count": 3,
   "metadata": {},
   "outputs": [
    {
     "name": "stdout",
     "output_type": "stream",
     "text": [
      "Which zipcode would you like to score? 22314\n"
     ]
    }
   ],
   "source": [
    "#---------------------------------------------------------------#\n",
    "#          User inputs 5-digit Zipcode to generate lat / lng\n",
    "#---------------------------------------------------------------#\n",
    "\n",
    "target_zip = input(\"Which zipcode would you like to score? \")\n",
    "y = True\n",
    "while y ==True:\n",
    "    if len(zipcodes.matching(target_zip)) == 0:\n",
    "        print(\"That is not a valid zip code\")\n",
    "        target_zip = input(\"Please try a new zipcode \")\n",
    "    else:\n",
    "        y = False\n",
    "\n",
    "lat = zipcodes.matching(target_zip)[0][\"lat\"]\n",
    "lng = zipcodes.matching(target_zip)[0][\"long\"]\n"
   ]
  },
  {
   "cell_type": "code",
   "execution_count": 20,
   "metadata": {
    "collapsed": true
   },
   "outputs": [],
   "source": [
    "# Function requires a latitude and longitude value\n",
    "# Call this function to generate census population data for 2010 - 2016\n",
    "def cen_block_query(lat,lng):\n",
    "    # Queries Census for county/State associated to Lat/Long\n",
    "    # API Info (No Key Required):  https://www.fcc.gov/general/census-block-conversions-api\n",
    "    cen_block_url = ('http://data.fcc.gov/api/block/find?format=json&latitude=%s&longitude=%s&showall=true' % (lat, lng))\n",
    "    lat_lon_county = req.get(cen_block_url).json()\n",
    "    county_name = lat_lon_county['County']['name']\n",
    "    state_name = lat_lon_county['State']['name']\n",
    "    county_census_pop = pd.read_csv('Resources/co-est2016-alldata.csv',\\\n",
    "                                encoding=\"ISO-8859-1\").apply(lambda x: x.astype(str).str.lower())\n",
    "    # Match County and State name to retrieve population information from 2010 through 2016\n",
    "    for index, row in county_census_pop.iterrows():\n",
    "        if str.lower(county_name) in row['CTYNAME'] and row['STNAME'] == str.lower(state_name):\n",
    "            years = ['2010','2011','2012','2013','2014','2015','2016']\n",
    "            pops = []\n",
    "            pops.append(int(row['POPESTIMATE2010']))\n",
    "            pops.append(int(row['POPESTIMATE2011']))\n",
    "            pops.append(int(row['POPESTIMATE2012']))\n",
    "            pops.append(int(row['POPESTIMATE2013']))\n",
    "            pops.append(int(row['POPESTIMATE2014']))\n",
    "            pops.append(int(row['POPESTIMATE2015']))\n",
    "            pops.append(int(row['POPESTIMATE2016']))           \n",
    "            pop_dict = {'Years': years, 'Population': pops}\n",
    "            # Return a dataframe with population value for each year\n",
    "            pop_est = pd.DataFrame(pop_dict)\n",
    "        else:\n",
    "            next    \n",
    "    return pop_est, county_name, state_name\n",
    "\n",
    "#---------------------------------------------------------------#\n",
    "# call this function to present a line graph of population change\n",
    "def census_plot(pop_est,county_name,state_name):\n",
    "    pop_len = len(pop_est['Population'])\n",
    "    _2010 = pop_est['Population'][1]\n",
    "    _2016 = pop_est['Population'][pop_len -1]\n",
    "    if _2010 < _2016:\n",
    "        #\n",
    "        diff_ = (round(((_2016 - _2010)/ _2016) * 100))\n",
    "        pop_growth = ((_2016 - _2010)/ _2016)\n",
    "        diff_str = \"Note:\\nIncrease of population by\\n\" + str(diff_) + \"% from 2010 to 2016\"\n",
    "    elif _2010 > _2016:\n",
    "        diff_ = (round(((_2010 - _2016)/ _2010) * 100))\n",
    "        diff_str = \"Note:\\nDecrease of population by\\n\" + str(diff_) + \"% from 2010 to 2016\"\n",
    "    else:\n",
    "        diff_str = \"Note:\\nPopulation estimated as\\nthe same from 2010 to 2016\"\n",
    "    ax = pop_est.plot(figsize = (8,6),color='blue', legend=False, marker = '*',markersize=15)\n",
    "    ax.set_xticklabels(pop_est['Years'], fontsize=13, rotation=45)\n",
    "    plt.grid()\n",
    "    plt.figtext(0.91,0.45,diff_str,fontsize=12)\n",
    "    plt.title(\"Census Population Estimates (%s County, %s)\"%(county_name,state_name), fontsize = 14)\n",
    "    plt.ylabel(\"Population\", fontsize=14)\n",
    "    plt.savefig(\"Population_Change_LineGraph.png\")\n",
    "    return plt.show(), pop_growth\n",
    "\n",
    "#---------------------------------------------------------------#\n",
    "# Call this function to capture a DF that includes yearly changes in population\n",
    "def population_df_generator(pop_est):\n",
    "    pop_len = len(pop_est['Population'])\n",
    "    pop_diff = [0]\n",
    "    pop_diff_prcnt = [0]\n",
    "    for x in range(pop_len-1):\n",
    "        diff = (pop_est['Population'][x+1] - pop_est['Population'][x])\n",
    "        pop_diff.append(diff)\n",
    "        diff_prcnt = round(((diff/ pop_est['Population'][x]) * 100),2)\n",
    "        pop_diff_prcnt.append(diff_prcnt)\n",
    "    census_pop_master_df = pop_est\n",
    "    census_pop_master_df['Difference'] = pop_diff\n",
    "    census_pop_master_df['Percent Change'] = pop_diff_prcnt\n",
    "    return census_pop_master_df"
   ]
  },
  {
   "cell_type": "code",
   "execution_count": 21,
   "metadata": {},
   "outputs": [
    {
     "data": {
      "image/png": "[encoded data removed]",
      "text/plain": [
       "<matplotlib.figure.Figure at 0x11219fef0>"
      ]
     },
     "metadata": {},
     "output_type": "display_data"
    }
   ],
   "source": [
    "pop_est, county_name, state_name = cen_block_query(lat,lng)\n",
    "pop_diff = census_plot(pop_est,county_name,state_name)\n",
    "#population_df_generator(pop_est)"
   ]
  },
  {
   "cell_type": "code",
   "execution_count": 25,
   "metadata": {},
   "outputs": [
    {
     "data": {
      "text/plain": [
       "(None, 0.071619279892176368)"
      ]
     },
     "execution_count": 25,
     "metadata": {},
     "output_type": "execute_result"
    }
   ],
   "source": [
    "pop_diff"
   ]
  },
  {
   "cell_type": "code",
   "execution_count": null,
   "metadata": {
    "collapsed": true
   },
   "outputs": [],
   "source": []
  }
 ],
 "metadata": {
  "kernelspec": {
   "display_name": "Python 3",
   "language": "python",
   "name": "python3"
  },
  "language_info": {
   "codemirror_mode": {
    "name": "ipython",
    "version": 3
   },
   "file_extension": ".py",
   "mimetype": "text/x-python",
   "name": "python",
   "nbconvert_exporter": "python",
   "pygments_lexer": "ipython3",
   "version": "3.6.1"
  }
 },
 "nbformat": 4,
 "nbformat_minor": 2
}
