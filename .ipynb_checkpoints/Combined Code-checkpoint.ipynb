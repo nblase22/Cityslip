{
 "cells": [
  {
   "cell_type": "code",
   "execution_count": 1,
   "metadata": {},
   "outputs": [
    {
     "ename": "IndentationError",
     "evalue": "expected an indented block (zip_functions.py, line 263)",
     "output_type": "error",
     "traceback": [
      "\u001b[1;36m  File \u001b[1;32m\"C:\\Users\\nblas\\dev\\CityScore-ZipSlip-\\zip_functions.py\"\u001b[1;36m, line \u001b[1;32m263\u001b[0m\n\u001b[1;33m    except IndexError:\u001b[0m\n\u001b[1;37m    ^\u001b[0m\n\u001b[1;31mIndentationError\u001b[0m\u001b[1;31m:\u001b[0m expected an indented block\n"
     ]
    }
   ],
   "source": [
    "# Dependencies\n",
    "import requests as req\n",
    "import json\n",
    "import zipcodes\n",
    "import pandas as pd\n",
    "import matplotlib.pyplot as plt\n",
    "import numpy as np\n",
    "import http.client\n",
    "import datetime\n",
    "import time as time\n",
    "import zip_functions as zf\n",
    "import csv"
   ]
  },
  {
   "cell_type": "code",
   "execution_count": null,
   "metadata": {
    "collapsed": true
   },
   "outputs": [],
   "source": [
    "#read zip code file and verify the zip is valid\n",
    "all_zips = pd.read_csv(\"Resources/free-zipcode-database-Primary.csv\")"
   ]
  },
  {
   "cell_type": "code",
   "execution_count": null,
   "metadata": {},
   "outputs": [],
   "source": [
    "# get latitude and longitude of target zipcode for use with google places\n",
    "target_zip = input(\"Which zipcode would you like to score? \")\n",
    "invalid_zip = True\n",
    "\n",
    "#make sure the zip code is in the valid zip code file\n",
    "while invalid_zip == True:\n",
    "    if any(all_zips[\"Zipcode\"] == int(target_zip)):\n",
    "\n",
    "        invalid_zip = False\n",
    "\n",
    "    else:\n",
    "        print(\"That is not a valid zip code\")\n",
    "        target_zip = input(\"Please try a new, nearby zipcode \")\n",
    "\n",
    "\n",
    "lat = zipcodes.matching(target_zip)[0][\"lat\"]\n",
    "lng = zipcodes.matching(target_zip)[0][\"long\"]\n",
    "city = zipcodes.matching(target_zip)[0][\"city\"]\n",
    "state = zipcodes.matching(target_zip)[0][\"state\"]"
   ]
  },
  {
   "cell_type": "code",
   "execution_count": null,
   "metadata": {
    "scrolled": false
   },
   "outputs": [],
   "source": [
    "# get and plot the community data and age demographics\n",
    "resp = zf.get_community_data(target_zip)\n",
    "county = zf.age_demographics_zip(resp,target_zip)"
   ]
  },
  {
   "cell_type": "code",
   "execution_count": null,
   "metadata": {},
   "outputs": [],
   "source": [
    "# run the pie_plot function to graph points of interest\n",
    "# poi is the return dictionary of results from the barfinder function\n",
    "poi = zf.barfinder(lat,lng)\n",
    "poi_total = sum(poi.values())\n",
    "zf.pie_plot(poi, target_zip)"
   ]
  },
  {
   "cell_type": "code",
   "execution_count": null,
   "metadata": {},
   "outputs": [],
   "source": [
    "# Use the census data to determine population growth for zip codes\n",
    "pop_est,county_name,state_name = zf.cen_block_query(lat,lng)\n",
    "pop_growth = zf.census_plot(pop_est,county_name,state_name)"
   ]
  },
  {
   "cell_type": "code",
   "execution_count": null,
   "metadata": {
    "scrolled": false
   },
   "outputs": [],
   "source": [
    "#create the factors dictionary \n",
    "zip_factors_dict = {}\n",
    "\n",
    "\n",
    "#get Real Estate data \n",
    "df, periods, zip_factors_dict['home_value'], zip_factors_dict['rent'], found = zf.get_home_data(target_zip, city, state)\n",
    "\n",
    "#plot the home values and rent\n",
    "zf.plot_homes(df,target_zip,periods, found)\n",
    "\n",
    "#get more data for the zip code and store in the dictionary\n",
    "zip_factors_dict = zf.get_zip_factors(target_zip,lat, lng, zip_factors_dict)    \n",
    "\n",
    "#get school data\n",
    "radius = 5\n",
    "#total schools, private, public, catholic\n",
    "ts, pv, pub, ca = zf.get_school_data(lat, lng, radius)\n",
    "\n",
    "# plot the school data\n",
    "zf.plot_schools(pv, pub, ca, radius, target_zip)\n",
    "\n",
    "#store results in factors dictionary\n",
    "zip_factors_dict[\"private_schools\"] = pv\n",
    "zip_factors_dict[\"public_schools\"] = pub\n",
    "zip_factors_dict[\"cath_schools\"] = ca\n",
    "\n",
    "\n",
    "#get other factors from census and google\n",
    "#### NEED TO CALL THOSE FUNCTIONS AND POPULATE the DICTIONARY WITH REAL VALUES\n",
    "zip_factors_dict['pop_growth'] = pop_growth\n",
    "zip_factors_dict['poi'] = poi_total\n",
    "zip_factors_dict['city'] = city\n",
    "zip_factors_dict['state'] = state\n",
    "zip_factors_dict['county'] = county\n",
    "zip_factors_dict['zip_code'] = target_zip\n",
    "\n",
    "#compute the score from the values in the dictionary\n",
    "score = zf.compute_score(zip_factors_dict)"
   ]
  },
  {
   "cell_type": "code",
   "execution_count": null,
   "metadata": {},
   "outputs": [],
   "source": []
  },
  {
   "cell_type": "code",
   "execution_count": null,
   "metadata": {
    "collapsed": true
   },
   "outputs": [],
   "source": []
  }
 ],
 "metadata": {
  "kernelspec": {
   "display_name": "Python [default]",
   "language": "python",
   "name": "python3"
  },
  "language_info": {
   "codemirror_mode": {
    "name": "ipython",
    "version": 3
   },
   "file_extension": ".py",
   "mimetype": "text/x-python",
   "name": "python",
   "nbconvert_exporter": "python",
   "pygments_lexer": "ipython3",
   "version": "3.6.1"
  }
 },
 "nbformat": 4,
 "nbformat_minor": 2
}
